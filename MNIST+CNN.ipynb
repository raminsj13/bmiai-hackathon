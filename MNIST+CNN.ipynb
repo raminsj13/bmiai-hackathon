{
 "cells": [
  {
   "cell_type": "markdown",
   "metadata": {},
   "source": [
    "# Task\n",
    "In this tutorial, we will classify the MNIST dataset using a Convolutional Neural Network (CNN)."
   ]
  },
  {
   "cell_type": "markdown",
   "metadata": {},
   "source": [
    "# Import libraries"
   ]
  },
  {
   "cell_type": "markdown",
   "metadata": {},
   "source": [
    "Before anything, let's import some basic libraries:"
   ]
  },
  {
   "cell_type": "code",
   "execution_count": 1,
   "metadata": {
    "collapsed": true
   },
   "outputs": [],
   "source": [
    "import pandas as pd\n",
    "import torch\n",
    "import torchvision\n",
    "import torchvision.transforms as transforms\n",
    "import torch.nn as nn\n",
    "import torch.nn.functional as F\n",
    "import torch.optim as optim\n",
    "from torch.utils.data import DataLoader\n",
    "from torch.utils.data import Dataset\n",
    "import matplotlib\n",
    "import matplotlib.pyplot as plt"
   ]
  },
  {
   "cell_type": "markdown",
   "metadata": {},
   "source": [
    "# Data Preparation"
   ]
  },
  {
   "cell_type": "markdown",
   "metadata": {},
   "source": [
    "Training and test set should be first loaded from the folder containing our data, as was done in the previous tutorial:"
   ]
  },
  {
   "cell_type": "code",
   "execution_count": 2,
   "metadata": {},
   "outputs": [],
   "source": [
    "# Load the data:\n",
    "train = pd.read_csv('data/train.csv')\n",
    "test = pd.read_csv('data/test.csv')\n",
    "\n",
    "# Split the data into features and labels for each image:\n",
    "Y_train = train[\"label\"]\n",
    "X_train = train.drop(labels=\"label\",axis=1)\n",
    "X_test = test\n",
    "\n",
    "# Normalize values:\n",
    "X_train = X_train/255.0\n",
    "test = test/255.0\n",
    "\n",
    "# Reshape the pixels to their original 28x28 format:\n",
    "X_train, Y_train = X_train.values.reshape(-1, 28,28), Y_train.values\n",
    "X_test = X_test.values.reshape(-1,28,28)\n",
    "\n",
    "# Split into training and validation:\n",
    "X_valid, Y_valid = X_train[-2000:], Y_train[-2000:]\n",
    "X_train, Y_train = X_train[:-2000], Y_train[:-2000]"
   ]
  },
  {
   "cell_type": "markdown",
   "metadata": {},
   "source": [
    "PyTorch provides some helper functions to load data, shuffle, and augment. Dataset and DataLoader are two of these functions.\n",
    "\n",
    "So let's create a class that is inherited from the Dataset class. This class provides functions to gather data and also to know the number of items:"
   ]
  },
  {
   "cell_type": "code",
   "execution_count": 3,
   "metadata": {},
   "outputs": [],
   "source": [
    "class MNISTDataset(Dataset):\n",
    "    def __init__(self, X, Y=None):\n",
    "        super().__init__()\n",
    "        self.X = X\n",
    "        self.Y = Y\n",
    "    \n",
    "    def __getitem__(self, index):\n",
    "        if self.Y is None:\n",
    "            return self.X[index]\n",
    "        return self.X[index], self.Y[index]\n",
    "    \n",
    "    def __len__(self):\n",
    "        return len(self.X)"
   ]
  },
  {
   "cell_type": "markdown",
   "metadata": {},
   "source": [
    "Next step will be to instantiate the dataset to then pass it to the DataLoader. By using the DataLoader, pytorch will manage for you all the shuffling management and loading (multi-threaded) of the data:"
   ]
  },
  {
   "cell_type": "code",
   "execution_count": 4,
   "metadata": {},
   "outputs": [],
   "source": [
    "trainset = MNISTDataset(X_train, Y_train)\n",
    "testset = MNISTDataset(X_test)\n",
    "validset = MNISTDataset(X_valid, Y_valid)\n",
    "\n",
    "# batch_size=how many samples per batch to load\n",
    "# num_workers= how many subprocesses to use for data loading\n",
    "trainloader = DataLoader(trainset, batch_size=4, shuffle=True, num_workers=2)\n",
    "testloader = DataLoader(testset, batch_size=4, shuffle=False, num_workers=2)\n",
    "validloader = DataLoader(validset, batch_size=4, shuffle=False)\n",
    "\n",
    "classes = ('0', '1', '2', '3', '4', '5', '6', '7', '8', '9')"
   ]
  },
  {
   "cell_type": "markdown",
   "metadata": {},
   "source": [
    "Now pytorch will manage for you all the shuffling management and loading (multi-threaded) of your data."
   ]
  },
  {
   "cell_type": "markdown",
   "metadata": {},
   "source": [
    "Let's see some of the training samples and their labels available through trainloader:"
   ]
  },
  {
   "cell_type": "code",
   "execution_count": 5,
   "metadata": {},
   "outputs": [
    {
     "data": {
      "image/png": "[encoded data removed]",
      "text/plain": [
       "<matplotlib.figure.Figure at 0x112ffa748>"
      ]
     },
     "metadata": {},
     "output_type": "display_data"
    },
    {
     "name": "stdout",
     "output_type": "stream",
     "text": [
      "Label:  9\n"
     ]
    },
    {
     "data": {
      "image/png": "[encoded data removed]",
      "text/plain": [
       "<matplotlib.figure.Figure at 0x113136128>"
      ]
     },
     "metadata": {},
     "output_type": "display_data"
    },
    {
     "name": "stdout",
     "output_type": "stream",
     "text": [
      "Label:  9\n"
     ]
    },
    {
     "data": {
      "image/png": "[encoded data removed]",
      "text/plain": [
       "<matplotlib.figure.Figure at 0x1134d5668>"
      ]
     },
     "metadata": {},
     "output_type": "display_data"
    },
    {
     "name": "stdout",
     "output_type": "stream",
     "text": [
      "Label:  3\n"
     ]
    },
    {
     "data": {
      "image/png": "[encoded data removed]",
      "text/plain": [
       "<matplotlib.figure.Figure at 0x11dc991d0>"
      ]
     },
     "metadata": {},
     "output_type": "display_data"
    },
    {
     "name": "stdout",
     "output_type": "stream",
     "text": [
      "Label:  5\n"
     ]
    }
   ],
   "source": [
    "%matplotlib inline\n",
    "import matplotlib.pyplot as plt\n",
    "import numpy as np\n",
    "\n",
    "for i, data in enumerate(trainloader):\n",
    "    imgs, labels = data\n",
    "    plt.figure()\n",
    "    two_d = (np.reshape(imgs[0].numpy()*255, (28, 28))).astype(np.uint8)\n",
    "    plt.imshow(two_d, cmap='gray')\n",
    "    plt.show()\n",
    "    print(\"Label: \", classes[labels[0]])\n",
    "    if i >= 3:\n",
    "        break"
   ]
  },
  {
   "cell_type": "markdown",
   "metadata": {},
   "source": [
    "# Defining a CNN"
   ]
  },
  {
   "cell_type": "markdown",
   "metadata": {},
   "source": [
    "Architecture of the convolutional neural network we will be using today, looks like below:\n",
    "<img src=\"MNIST.png\">\n",
    "\n",
    "First, we have a convolutional layer with 10 filters of filter size 5$*$5, stride 1 and padding 0 followed by a ReLU layer. Following, is a Maxpool layer with filter size and stride set to 2. Next, is a convolutional layer with 20 fitlers of size 5$*$5, stride 1 and padding 0 followed by a ReLU layer. After that, is a Maxpool layer with size and stride set to 2. Last, we have a Fully connected layer with 50 output neurons followed by a ReLU layer, followed by a fully connected layer with 10 output neurons."
   ]
  },
  {
   "cell_type": "code",
   "execution_count": 6,
   "metadata": {
    "collapsed": true
   },
   "outputs": [],
   "source": [
    "class CNN(nn.Module):\n",
    "    def __init__(self):\n",
    "        super(CNN, self).__init__()\n",
    "        self.conv1 = nn.Conv2d(1, 10, 5) # stride=1, number of filters=10, filter size=5\n",
    "        self.pool = nn.MaxPool2d(2,2) # stride=2, filter size=2\n",
    "        self.conv2 = nn.Conv2d(10, 20, 5) #stride=1, number of filters=20, filter size=5 \n",
    "        self.fc1 = nn.Linear(20*4*4, 50) # fully connected layer with input size 4x4x20 and output size 50\n",
    "        self.fc2 = nn.Linear(50, 10) # fully connected layer with input size 50 and output size 10 \n",
    "        \n",
    "    def forward(self, x):\n",
    "        x = x.unsqueeze(1)\n",
    "        x = x.float()\n",
    "        a1 = self.pool(F.relu(self.conv1(x)))\n",
    "        a2 = self.pool(F.relu(self.conv2(a1)))\n",
    "        a3 = a2.view(-1, 20*4*4)\n",
    "        a4 = F.relu(self.fc1(a3))\n",
    "        a5 = self.fc2(a4)\n",
    "        return a5"
   ]
  },
  {
   "cell_type": "markdown",
   "metadata": {},
   "source": [
    "Let's build an instance of the model and see what it looks like:"
   ]
  },
  {
   "cell_type": "code",
   "execution_count": 7,
   "metadata": {},
   "outputs": [
    {
     "data": {
      "text/plain": [
       "CNN(\n",
       "  (conv1): Conv2d(1, 10, kernel_size=(5, 5), stride=(1, 1))\n",
       "  (pool): MaxPool2d(kernel_size=2, stride=2, padding=0, dilation=1, ceil_mode=False)\n",
       "  (conv2): Conv2d(10, 20, kernel_size=(5, 5), stride=(1, 1))\n",
       "  (fc1): Linear(in_features=320, out_features=50, bias=True)\n",
       "  (fc2): Linear(in_features=50, out_features=10, bias=True)\n",
       ")"
      ]
     },
     "execution_count": 7,
     "metadata": {},
     "output_type": "execute_result"
    }
   ],
   "source": [
    "cnn = CNN()\n",
    "cnn"
   ]
  },
  {
   "cell_type": "markdown",
   "metadata": {},
   "source": [
    "# Defining the Loss Function and the Optimizer"
   ]
  },
  {
   "cell_type": "markdown",
   "metadata": {},
   "source": [
    "We need to define the loss function and optimizer we will use to train our network. For loss function, we will use the Cross Entropy loss which is available via the torch.nn package. For optimizer, we will use the Stochastic Gradient Descent which is available via torch.nn package. The learning rate used for training is set to 0.01: "
   ]
  },
  {
   "cell_type": "code",
   "execution_count": 8,
   "metadata": {
    "collapsed": true
   },
   "outputs": [],
   "source": [
    "learning_rate = 0.01\n",
    "criterion = nn.CrossEntropyLoss()\n",
    "optimizer = optim.SGD(cnn.parameters(), lr=learning_rate, momentum=0.5)"
   ]
  },
  {
   "cell_type": "markdown",
   "metadata": {},
   "source": [
    "# Training the Network"
   ]
  },
  {
   "cell_type": "markdown",
   "metadata": {},
   "source": [
    "Let's define a function for training the network:\n"
   ]
  },
  {
   "cell_type": "code",
   "execution_count": 9,
   "metadata": {
    "collapsed": true
   },
   "outputs": [],
   "source": [
    "def train(model, optimizer=optimizer, criterion=criterion, learning_rate=learning_rate, epochs=5):\n",
    "    losses = []\n",
    "    for epoch in range(epochs):\n",
    "        for i, data in enumerate(trainloader):\n",
    "            samples, labels = data\n",
    "\n",
    "            # Zero the parameter gradients\n",
    "            optimizer.zero_grad()\n",
    "\n",
    "            predictions = model(samples)\n",
    "            loss = criterion(predictions, labels)\n",
    "            loss.backward()\n",
    "            optimizer.step()\n",
    "\n",
    "            # Print some statistics\n",
    "            if i % 2000 == 1999:\n",
    "                losses.append(loss.data.mean())\n",
    "                print('epoch[%d], mini-batch[%5d] loss: %.3f' % (epoch+1, i+1, np.mean(losses)))\n",
    "                total_loss = 0 "
   ]
  },
  {
   "cell_type": "markdown",
   "metadata": {},
   "source": [
    "We can train our CNN model, \"cnn\" using the \"train\" function as below: "
   ]
  },
  {
   "cell_type": "code",
   "execution_count": 10,
   "metadata": {
    "scrolled": false
   },
   "outputs": [
    {
     "name": "stdout",
     "output_type": "stream",
     "text": [
      "epoch[1], mini-batch[ 2000] loss: 1.340\n",
      "epoch[1], mini-batch[ 4000] loss: 0.675\n",
      "epoch[1], mini-batch[ 6000] loss: 0.469\n",
      "epoch[1], mini-batch[ 8000] loss: 0.353\n",
      "epoch[1], mini-batch[10000] loss: 0.291\n",
      "epoch[2], mini-batch[ 2000] loss: 0.242\n",
      "epoch[2], mini-batch[ 4000] loss: 0.208\n",
      "epoch[2], mini-batch[ 6000] loss: 0.183\n",
      "epoch[2], mini-batch[ 8000] loss: 0.184\n",
      "epoch[2], mini-batch[10000] loss: 0.183\n",
      "epoch[3], mini-batch[ 2000] loss: 0.166\n",
      "epoch[3], mini-batch[ 4000] loss: 0.155\n",
      "epoch[3], mini-batch[ 6000] loss: 0.144\n",
      "epoch[3], mini-batch[ 8000] loss: 0.134\n",
      "epoch[3], mini-batch[10000] loss: 0.125\n",
      "epoch[4], mini-batch[ 2000] loss: 0.117\n",
      "epoch[4], mini-batch[ 4000] loss: 0.111\n",
      "epoch[4], mini-batch[ 6000] loss: 0.105\n",
      "epoch[4], mini-batch[ 8000] loss: 0.100\n",
      "epoch[4], mini-batch[10000] loss: 0.095\n",
      "epoch[5], mini-batch[ 2000] loss: 0.090\n",
      "epoch[5], mini-batch[ 4000] loss: 0.086\n",
      "epoch[5], mini-batch[ 6000] loss: 0.083\n",
      "epoch[5], mini-batch[ 8000] loss: 0.079\n",
      "epoch[5], mini-batch[10000] loss: 0.096\n"
     ]
    }
   ],
   "source": [
    "train(cnn)"
   ]
  },
  {
   "cell_type": "markdown",
   "metadata": {},
   "source": [
    "Tip: When you train networks for deep learning, it is often useful to monitor the training progress. By plotting metrics such as loss or accuracy during training, you can learn how the training is progressing. For example, you can determine if and how quickly the network loss is decreasing, and whether the network is starting to overfit the training data. "
   ]
  },
  {
   "cell_type": "markdown",
   "metadata": {
    "collapsed": true
   },
   "source": [
    "# Testing the Trained Network"
   ]
  },
  {
   "cell_type": "markdown",
   "metadata": {},
   "source": [
    "Using the validation set, we can see the accuracy of trained CNN (cnn):"
   ]
  },
  {
   "cell_type": "code",
   "execution_count": 11,
   "metadata": {},
   "outputs": [
    {
     "name": "stdout",
     "output_type": "stream",
     "text": [
      "Accuracy on 2000 test images is = 98 %\n"
     ]
    }
   ],
   "source": [
    "total = 0\n",
    "corrects = 0\n",
    "\n",
    "for data in validloader:\n",
    "    images, labels = data\n",
    "    outputs = cnn(images)\n",
    "    _, predicted_lables = torch.max(outputs.data, 1)\n",
    "    total += labels.size(0)\n",
    "    corrects += (predicted_lables == labels).sum().item()\n",
    "\n",
    "print('Accuracy on %d test images is = %d %%' % (total, 100*corrects/total))"
   ]
  },
  {
   "cell_type": "markdown",
   "metadata": {},
   "source": [
    "Let's look at some samples in the validation set and their predicted labels:"
   ]
  },
  {
   "cell_type": "code",
   "execution_count": 12,
   "metadata": {},
   "outputs": [
    {
     "data": {
      "image/png": "[encoded data removed]",
      "text/plain": [
       "<matplotlib.figure.Figure at 0x11dca81d0>"
      ]
     },
     "metadata": {},
     "output_type": "display_data"
    },
    {
     "name": "stdout",
     "output_type": "stream",
     "text": [
      "Predicted Label: [2]\n"
     ]
    },
    {
     "data": {
      "image/png": "[encoded data removed]",
      "text/plain": [
       "<matplotlib.figure.Figure at 0x11314fc50>"
      ]
     },
     "metadata": {},
     "output_type": "display_data"
    },
    {
     "name": "stdout",
     "output_type": "stream",
     "text": [
      "Predicted Label: [8]\n"
     ]
    },
    {
     "data": {
      "image/png": "[encoded data removed]",
      "text/plain": [
       "<matplotlib.figure.Figure at 0x11de05400>"
      ]
     },
     "metadata": {},
     "output_type": "display_data"
    },
    {
     "name": "stdout",
     "output_type": "stream",
     "text": [
      "Predicted Label: [0]\n"
     ]
    },
    {
     "data": {
      "image/png": "[encoded data removed]",
      "text/plain": [
       "<matplotlib.figure.Figure at 0x124659908>"
      ]
     },
     "metadata": {},
     "output_type": "display_data"
    },
    {
     "name": "stdout",
     "output_type": "stream",
     "text": [
      "Predicted Label: [1]\n"
     ]
    }
   ],
   "source": [
    "%matplotlib inline\n",
    "import matplotlib.pyplot as plt\n",
    "import numpy as np\n",
    "\n",
    "for i, data in enumerate(validloader):\n",
    "    imgs, labels = data\n",
    "    plt.figure()\n",
    "    two_d = (np.reshape(imgs[0].numpy()*255, (28, 28))).astype(np.uint8)\n",
    "    plt.imshow(two_d, cmap='gray')\n",
    "    plt.show()\n",
    "    outputs = cnn(imgs)\n",
    "    _, predicted_label = torch.topk(outputs[0], 1)\n",
    "    print('Predicted Label:', predicted_label.numpy())\n",
    "    if i >= 3:\n",
    "        break"
   ]
  },
  {
   "cell_type": "markdown",
   "metadata": {},
   "source": [
    "# Coding:"
   ]
  },
  {
   "cell_type": "markdown",
   "metadata": {},
   "source": [
    "There are other optimizer algorithms available in torch.nn package that sometimes work better than Stochastic Gradient Descent (SGD). One of these optimizers is called Adam Optimizer (Adam). Let's know train the network using the Adam optimizer:"
   ]
  },
  {
   "cell_type": "code",
   "execution_count": 13,
   "metadata": {},
   "outputs": [],
   "source": [
    "# Define the Adam optimizer:\n",
    "Adam_optimizer = optim.Adam(cnn.parameters(), lr=learning_rate)\n",
    "\n",
    "# Create a new instance of CNN network to train:\n",
    "# -- Your code goes here --\n",
    "\n",
    "# Train the network using the Adam optimizer:\n",
    "#-- Your code goes here --"
   ]
  },
  {
   "cell_type": "markdown",
   "metadata": {},
   "source": [
    "Having done these, let's see the accuracy of the trained network on the validation set:"
   ]
  },
  {
   "cell_type": "code",
   "execution_count": 14,
   "metadata": {
    "collapsed": true
   },
   "outputs": [],
   "source": [
    "#-- Your code goes here --"
   ]
  }
 ],
 "metadata": {
  "kernelspec": {
   "display_name": "Python 3",
   "language": "python",
   "name": "python3"
  },
  "language_info": {
   "codemirror_mode": {
    "name": "ipython",
    "version": 3
   },
   "file_extension": ".py",
   "mimetype": "text/x-python",
   "name": "python",
   "nbconvert_exporter": "python",
   "pygments_lexer": "ipython3",
   "version": "3.6.2"
  }
 },
 "nbformat": 4,
 "nbformat_minor": 2
}
